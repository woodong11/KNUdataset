{
 "cells": [
  {
   "cell_type": "code",
   "execution_count": 2,
   "metadata": {},
   "outputs": [],
   "source": [
    "import cv2\n",
    "import os\n",
    "import numpy as np\n",
    "import glob"
   ]
  },
  {
   "cell_type": "code",
   "execution_count": 3,
   "metadata": {},
   "outputs": [],
   "source": [
    "pattern_size = (11, 7)\n",
    "square_size = 70\n",
    "\n",
    "object_points = []\n",
    "image_points_left = []\n",
    "image_points_right = []\n",
    "\n",
    "objp = np.zeros((np.prod(pattern_size), 3), dtype=np.float32)\n",
    "objp[:,:2] = np.mgrid[0:pattern_size[0], 0:pattern_size[1]].T.reshape(-1, 2)\n",
    "objp *= square_size\n",
    "\n",
    "left_images = sorted(glob.glob('./image/left*'))\n",
    "right_images = sorted(glob.glob('./image/right*'))\n",
    "for left, right in zip(left_images, right_images):\n",
    "    left_img = cv2.imread(left)\n",
    "    right_img = cv2.imread(right)\n",
    "    \n",
    "    left_img = cv2.resize(left_img, (640, 480))\n",
    "    right_img = cv2.resize(right_img, (640, 480))\n",
    "\n",
    "    # Convert the images to grayscale\n",
    "    left_gray = cv2.cvtColor(left_img, cv2.COLOR_BGR2GRAY)\n",
    "    right_gray = cv2.cvtColor(right_img, cv2.COLOR_BGR2GRAY)\n",
    "\n",
    "    # Find the chessboard corners in the images\n",
    "    ret_left, corners_left = cv2.findChessboardCorners(left_gray, pattern_size, None)\n",
    "    ret_right, corners_right = cv2.findChessboardCorners(right_gray, pattern_size, None)\n",
    "\n",
    "    # If the corners are found, add the points to the arrays\n",
    "    if ret_left and ret_right:\n",
    "        object_points.append(objp)\n",
    "        image_points_left.append(corners_left)\n",
    "        image_points_right.append(corners_right)"
   ]
  },
  {
   "cell_type": "code",
   "execution_count": 12,
   "metadata": {},
   "outputs": [],
   "source": [
    "intrinsic = np.load(\"./ocam_distortion.npy\", allow_pickle=True).item()\n",
    "\n",
    "resolution=1280\n",
    "K1 = np.array(intrinsic[str(resolution)][\"left\"][\"K\"].copy())\n",
    "K2 = np.array(intrinsic[str(resolution)][\"right\"][\"K\"].copy())\n",
    "D1 = np.array(intrinsic[str(resolution)][\"left\"][\"D\"].copy())\n",
    "D2 = np.array(intrinsic[str(resolution)][\"left\"][\"D\"].copy())"
   ]
  },
  {
   "cell_type": "code",
   "execution_count": 15,
   "metadata": {},
   "outputs": [
    {
     "data": {
      "text/plain": [
       "{'1280': {'left': {'K': [[3019.4448329690313, 0.0, 611.4780923143829],\n",
       "    [0.0, 3107.5377365583054, 404.24054971054835],\n",
       "    [0.0, 0.0, 1.0]],\n",
       "   'D': [[-2.709297813440373,\n",
       "     15.071314707355377,\n",
       "     -0.005124306301324113,\n",
       "     0.10191728120455235,\n",
       "     -112.61281290386643]]},\n",
       "  'right': {'K': [[1134.0866083699168, 0.0, 751.5573334393581],\n",
       "    [0.0, 1119.5327572461763, 384.68345458952984],\n",
       "    [0.0, 0.0, 1.0]],\n",
       "   'D': [[-0.3619215762150339,\n",
       "     0.187400183722031,\n",
       "     0.0007350606960144577,\n",
       "     0.0029733929377228512,\n",
       "     -0.06542037878829893]]}}}"
      ]
     },
     "execution_count": 15,
     "metadata": {},
     "output_type": "execute_result"
    }
   ],
   "source": [
    "intrinsic"
   ]
  },
  {
   "cell_type": "code",
   "execution_count": 13,
   "metadata": {},
   "outputs": [],
   "source": [
    "image_size = left_gray.shape[::-1]\n",
    "\n",
    "criteria = (cv2.TERM_CRITERIA_EPS + cv2.TERM_CRITERIA_MAX_ITER, 30, 0.001)\n",
    "flags = cv2.CALIB_FIX_INTRINSIC\n",
    "retval, cameraMatrix1, distCoeffs1, cameraMatrix2, distCoeffs2, R, T, E, F = cv2.stereoCalibrate(\n",
    "    objectPoints=object_points, imagePoints1=image_points_left, imagePoints2=image_points_right, \n",
    "    cameraMatrix1=K1, distCoeffs1=None, cameraMatrix2=K2, distCoeffs2=None, \n",
    "    imageSize=image_size, R=None, T=None, criteria=criteria, flags=flags)\n",
    "\n",
    "R1, R2, P1, P2, Q, validPixROI1, validPixROI2 = cv2.stereoRectify(\n",
    "    cameraMatrix1, distCoeffs1, cameraMatrix2, distCoeffs2, image_size, R, T, alpha=1)"
   ]
  },
  {
   "cell_type": "code",
   "execution_count": 11,
   "metadata": {},
   "outputs": [
    {
     "data": {
      "text/plain": [
       "(array([[ 0.92725266, -0.12791853, -0.35190816],\n",
       "        [ 0.07075171,  0.98276087, -0.17080768],\n",
       "        [ 0.36769104,  0.13348377,  0.92031809]]),\n",
       " array([[-1018.94474716],\n",
       "        [  416.22900863],\n",
       "        [ -143.53173021]]))"
      ]
     },
     "execution_count": 11,
     "metadata": {},
     "output_type": "execute_result"
    }
   ],
   "source": [
    "R, T"
   ]
  },
  {
   "cell_type": "code",
   "execution_count": 14,
   "metadata": {},
   "outputs": [
    {
     "data": {
      "text/plain": [
       "(array([[ 0.88990845,  0.00372572, -0.45612397],\n",
       "        [ 0.04296844,  0.99483534,  0.09195846],\n",
       "        [ 0.45411085, -0.10143354,  0.88515229]]),\n",
       " array([[ 1205.82849883],\n",
       "        [ -607.86808246],\n",
       "        [-3890.71891541]]))"
      ]
     },
     "execution_count": 14,
     "metadata": {},
     "output_type": "execute_result"
    }
   ],
   "source": [
    "R, T"
   ]
  },
  {
   "cell_type": "code",
   "execution_count": 6,
   "metadata": {},
   "outputs": [],
   "source": [
    "radian = 20 * np.pi / 180\n",
    "\n",
    "cos_v = np.cos(radian)\n",
    "sin_v = np.sin(radian)\n",
    "\n",
    "R1 = [[cos_v, 0.0, -sin_v], [0.0, 1.0, 0.0], [sin_v, 0.0, cos_v]]\n",
    "t1 = np.array([[-0.08],[0],[0]])\n",
    "\n",
    "R2 = [[cos_v, 0.0, sin_v], [0.0, 1.0, 0.0], [-sin_v, 0.0, cos_v]]\n",
    "t2 = np.array([[0.08],[0],[0]])\n",
    "\n",
    "R = np.matmul(np.linalg.inv(R2), R1)\n",
    "T = np.matmul(np.linalg.inv(R2), (t1 - t2))"
   ]
  },
  {
   "cell_type": "code",
   "execution_count": 7,
   "metadata": {},
   "outputs": [
    {
     "data": {
      "text/plain": [
       "(array([[ 0.76604444,  0.        , -0.64278761],\n",
       "        [ 0.        ,  1.        ,  0.        ],\n",
       "        [ 0.64278761,  0.        ,  0.76604444]]),\n",
       " array([[-0.15035082],\n",
       "        [ 0.        ],\n",
       "        [-0.05472322]]))"
      ]
     },
     "execution_count": 7,
     "metadata": {},
     "output_type": "execute_result"
    }
   ],
   "source": [
    "R, T"
   ]
  }
 ],
 "metadata": {
  "kernelspec": {
   "display_name": "pytorch",
   "language": "python",
   "name": "python3"
  },
  "language_info": {
   "codemirror_mode": {
    "name": "ipython",
    "version": 3
   },
   "file_extension": ".py",
   "mimetype": "text/x-python",
   "name": "python",
   "nbconvert_exporter": "python",
   "pygments_lexer": "ipython3",
   "version": "3.10.9"
  },
  "orig_nbformat": 4,
  "vscode": {
   "interpreter": {
    "hash": "9f469dc7c7f66f67ec1b8825871de59bfeceeff0bbd152e09d63d98ed695ad6a"
   }
  }
 },
 "nbformat": 4,
 "nbformat_minor": 2
}
